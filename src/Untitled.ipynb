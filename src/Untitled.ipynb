{
 "cells": [
  {
   "cell_type": "code",
   "execution_count": 87,
   "metadata": {},
   "outputs": [
    {
     "data": {
      "text/plain": [
       "-0.44721359549995787 + 0.0im"
      ]
     },
     "execution_count": 87,
     "metadata": {},
     "output_type": "execute_result"
    }
   ],
   "source": [
    "T = [0   0   im\n",
    "     0   1   0\n",
    "     -im 0   0]\n",
    "\n",
    "x1 = [0, 1, 0]\n",
    "x2 = [1, 0, -im]/sqrt(2)\n",
    "x3 = [1, 0, 3im]/sqrt(10);\n",
    "\n",
    "Sinv = [x1 x2 x3]\n",
    "S = (Sinv)'\n",
    "\n",
    "Sinv*T*S\n",
    "\n",
    "x3'*x2"
   ]
  },
  {
   "cell_type": "code",
   "execution_count": 80,
   "metadata": {},
   "outputs": [
    {
     "data": {
      "text/plain": [
       "3×3 Array{Complex{Float64},2}:\n",
       " 0.707107+0.0im       0.0+0.0im  0.707107+0.0im     \n",
       "      0.0+0.0im       1.0+0.0im       0.0+0.0im     \n",
       "      0.0+0.707107im  0.0+0.0im       0.0-0.707107im"
      ]
     },
     "execution_count": 80,
     "metadata": {},
     "output_type": "execute_result"
    }
   ],
   "source": [
    "Sinv"
   ]
  },
  {
   "cell_type": "code",
   "execution_count": 45,
   "metadata": {},
   "outputs": [
    {
     "data": {
      "text/plain": [
       "true"
      ]
     },
     "execution_count": 45,
     "metadata": {},
     "output_type": "execute_result"
    }
   ],
   "source": [
    "S == (Sinv)'"
   ]
  },
  {
   "cell_type": "code",
   "execution_count": 84,
   "metadata": {},
   "outputs": [
    {
     "data": {
      "text/plain": [
       "3×3 Array{Complex{Float64},2}:\n",
       " -1.0+0.0im  0.0+0.0im  0.0+0.0im\n",
       "  0.0+0.0im  1.0+0.0im  0.0+0.0im\n",
       "  0.0+0.0im  0.0+0.0im  1.0+0.0im"
      ]
     },
     "execution_count": 84,
     "metadata": {},
     "output_type": "execute_result"
    }
   ],
   "source": [
    "S*T*Sinv"
   ]
  },
  {
   "cell_type": "code",
   "execution_count": 93,
   "metadata": {},
   "outputs": [
    {
     "data": {
      "text/plain": [
       "3×3 Array{Complex{Float64},2}:\n",
       " -1.0+0.0im  0.0+0.0im  0.0+0.0im\n",
       "  0.0+0.0im  1.0+0.0im  0.0+0.0im\n",
       "  0.0+0.0im  0.0+0.0im  1.0+0.0im"
      ]
     },
     "execution_count": 93,
     "metadata": {},
     "output_type": "execute_result"
    }
   ],
   "source": [
    "T = [0   0   im\n",
    "     0   1   0\n",
    "     -im 0   0]\n",
    "\n",
    "# normalize(vec) = vec/(vec'*vec)\n",
    "\n",
    "x1 = [im, 0, -1] |> normalize\n",
    "x2 = [im, 0, 1] |> normalize\n",
    "x3 = [0, im, 0]   |> normalize\n",
    "\n",
    "Sinv = [x1 x2 x3]\n",
    "\n",
    "Sinv'*T*Sinv"
   ]
  },
  {
   "cell_type": "code",
   "execution_count": 95,
   "metadata": {},
   "outputs": [
    {
     "data": {
      "text/plain": [
       "3×3 Array{Complex{Float64},2}:\n",
       " 0.0-0.707107im  -0.0+0.0im  -0.707107+0.0im\n",
       " 0.0-0.707107im  -0.0+0.0im   0.707107+0.0im\n",
       " 0.0+0.0im        0.0-1.0im        0.0+0.0im"
      ]
     },
     "execution_count": 95,
     "metadata": {},
     "output_type": "execute_result"
    }
   ],
   "source": [
    "Sinv |> inv"
   ]
  },
  {
   "cell_type": "code",
   "execution_count": null,
   "metadata": {},
   "outputs": [],
   "source": []
  },
  {
   "cell_type": "code",
   "execution_count": 56,
   "metadata": {},
   "outputs": [
    {
     "data": {
      "text/plain": [
       "3×3 Array{Complex{Float64},2}:\n",
       " 1.0+0.0im  0.0+0.0im   0.0+0.0im\n",
       " 0.0+0.0im  1.0+0.0im   0.0+0.0im\n",
       " 0.0+0.0im  0.0+0.0im  -1.0+0.0im"
      ]
     },
     "execution_count": 56,
     "metadata": {},
     "output_type": "execute_result"
    }
   ],
   "source": [
    "Sinv'*T*Sinv"
   ]
  },
  {
   "cell_type": "code",
   "execution_count": 90,
   "metadata": {},
   "outputs": [
    {
     "data": {
      "text/plain": [
       "3×3 Array{Complex{Int64},2}:\n",
       " 1+0im  0+0im  0+0im\n",
       " 0+0im  1+0im  0+0im\n",
       " 0+0im  0+0im  1+0im"
      ]
     },
     "execution_count": 90,
     "metadata": {},
     "output_type": "execute_result"
    }
   ],
   "source": [
    "S = [0   0  im\n",
    "     0   1  0\n",
    "     -im 0  0]\n",
    "\n",
    "S'*S"
   ]
  },
  {
   "cell_type": "code",
   "execution_count": null,
   "metadata": {},
   "outputs": [],
   "source": []
  }
 ],
 "metadata": {
  "kernelspec": {
   "display_name": "Julia 0.6.1",
   "language": "julia",
   "name": "julia-0.6"
  },
  "language_info": {
   "file_extension": ".jl",
   "mimetype": "application/julia",
   "name": "julia",
   "version": "0.6.1"
  }
 },
 "nbformat": 4,
 "nbformat_minor": 2
}
