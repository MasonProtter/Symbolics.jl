{
 "cells": [
  {
   "cell_type": "code",
   "execution_count": 38,
   "metadata": {},
   "outputs": [
    {
     "data": {
      "text/plain": [
       "3×3 Array{Complex{Float64},2}:\n",
       " 1.0+0.0im  0.0+0.0im   0.0+0.0im\n",
       " 0.0+0.0im  1.0+0.0im   0.0+0.0im\n",
       " 0.0+0.0im  0.0+0.0im  -1.0+0.0im"
      ]
     },
     "execution_count": 38,
     "metadata": {},
     "output_type": "execute_result"
    }
   ],
   "source": [
    "T = [0   0   im\n",
    "     0   1   0\n",
    "     -im 0   0]\n",
    "\n",
    "x3 = [1, 0, im]/sqrt(2)\n",
    "x2 = [1, 0, -im]/sqrt(2)\n",
    "x1 = [0, 1, 0];\n",
    "\n",
    "Sinv = [x1 x2 x3]\n",
    "S = (Sinv)'\n",
    "\n",
    "S*T*Sinv"
   ]
  },
  {
   "cell_type": "code",
   "execution_count": null,
   "metadata": {},
   "outputs": [],
   "source": []
  },
  {
   "cell_type": "code",
   "execution_count": 45,
   "metadata": {},
   "outputs": [
    {
     "data": {
      "text/plain": [
       "true"
      ]
     },
     "execution_count": 45,
     "metadata": {},
     "output_type": "execute_result"
    }
   ],
   "source": [
    "S == (Sinv)'"
   ]
  },
  {
   "cell_type": "code",
   "execution_count": null,
   "metadata": {},
   "outputs": [],
   "source": []
  },
  {
   "cell_type": "code",
   "execution_count": 71,
   "metadata": {},
   "outputs": [
    {
     "data": {
      "text/plain": [
       "3×3 Array{Complex{Float64},2}:\n",
       " -1.0+0.0im  0.0+0.0im  0.0+0.0im\n",
       "  0.0+0.0im  1.0+0.0im  0.0+0.0im\n",
       "  0.0+0.0im  0.0+0.0im  1.0+0.0im"
      ]
     },
     "execution_count": 71,
     "metadata": {},
     "output_type": "execute_result"
    }
   ],
   "source": [
    "T = [0   0   im\n",
    "     0   1   0\n",
    "     -im 0   0]\n",
    "\n",
    "# normalize(vec) = vec/(vec'*vec)\n",
    "\n",
    "x1 = [1, 0, im] |> normalize\n",
    "x2 = [1, 1, -im] |> normalize\n",
    "x3 = [1, -2, -im]   |> normalize\n",
    "\n",
    "Sinv = [x1 x2 x3]\n",
    "\n",
    "Sinv'*T*Sinv"
   ]
  },
  {
   "cell_type": "code",
   "execution_count": 48,
   "metadata": {},
   "outputs": [
    {
     "data": {
      "text/plain": [
       "3×3 Array{Complex{Int64},2}:\n",
       " 0-1im  0+0im  0+1im\n",
       " 0+0im  1+0im  0+0im\n",
       " 1+0im  0+0im  1+0im"
      ]
     },
     "execution_count": 48,
     "metadata": {},
     "output_type": "execute_result"
    }
   ],
   "source": [
    "Sinv"
   ]
  },
  {
   "cell_type": "code",
   "execution_count": 66,
   "metadata": {},
   "outputs": [
    {
     "data": {
      "text/plain": [
       "0.816496580927726 + 0.0im"
      ]
     },
     "execution_count": 66,
     "metadata": {},
     "output_type": "execute_result"
    }
   ],
   "source": [
    "x1'*x2"
   ]
  },
  {
   "cell_type": "code",
   "execution_count": 56,
   "metadata": {},
   "outputs": [
    {
     "data": {
      "text/plain": [
       "3×3 Array{Complex{Float64},2}:\n",
       " 1.0+0.0im  0.0+0.0im   0.0+0.0im\n",
       " 0.0+0.0im  1.0+0.0im   0.0+0.0im\n",
       " 0.0+0.0im  0.0+0.0im  -1.0+0.0im"
      ]
     },
     "execution_count": 56,
     "metadata": {},
     "output_type": "execute_result"
    }
   ],
   "source": [
    "Sinv'*T*Sinv"
   ]
  },
  {
   "cell_type": "code",
   "execution_count": null,
   "metadata": {},
   "outputs": [],
   "source": []
  }
 ],
 "metadata": {
  "kernelspec": {
   "display_name": "Julia 0.6.1",
   "language": "julia",
   "name": "julia-0.6"
  },
  "language_info": {
   "file_extension": ".jl",
   "mimetype": "application/julia",
   "name": "julia",
   "version": "0.6.1"
  }
 },
 "nbformat": 4,
 "nbformat_minor": 2
}
