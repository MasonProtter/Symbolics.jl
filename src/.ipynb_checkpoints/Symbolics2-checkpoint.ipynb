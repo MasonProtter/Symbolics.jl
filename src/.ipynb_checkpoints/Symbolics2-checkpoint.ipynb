{
 "cells": [
  {
   "cell_type": "code",
   "execution_count": 99,
   "metadata": {},
   "outputs": [],
   "source": [
    "using NamedTuples\n",
    "using DataStructures"
   ]
  },
  {
   "cell_type": "code",
   "execution_count": 100,
   "metadata": {},
   "outputs": [],
   "source": [
    "Sym = Symbol\n",
    "SymExpr = Expr\n",
    "\n",
    "symExpr(x) = x\n",
    "mathy = Union{Sym,SymExpr,Number};\n",
    "\n",
    "function Base.:+(x::mathy, y::mathy)\n",
    "    if x == y\n",
    "        symExpr(:(2*$x))\n",
    "    elseif x == -y\n",
    "        0\n",
    "    elseif x == 0\n",
    "        y\n",
    "    elseif y == 0\n",
    "        x\n",
    "    else\n",
    "        symExpr(:($x+$y))\n",
    "    end\n",
    "end\n",
    "\n",
    "Base.:+(x::mathy) = x\n",
    "\n",
    "function Base.:-(x::mathy, y::mathy)\n",
    "    if x == y\n",
    "        0\n",
    "    elseif x == -y\n",
    "        symExpr(:(2$x))\n",
    "    elseif x == 0\n",
    "        -y\n",
    "    elseif y == 0\n",
    "        x\n",
    "    else\n",
    "        symExpr(:($x-$y))\n",
    "    end\n",
    "end\n",
    "\n",
    "function Base.:-(x::Sym)\n",
    "    symExpr(:(-$x))\n",
    "end\n",
    "\n",
    "isUnaryOperation(ex::SymExpr) = length(ex.args) == 2\n",
    "car(x::SymExpr) = x.args[1]\n",
    "\n",
    "function Base.:-(x::SymExpr)\n",
    "    if (car(x) == :-) && (x |> isUnaryOperation)\n",
    "        symExpr(x.args[2])\n",
    "    else\n",
    "        symExpr(:(-$x))\n",
    "    end\n",
    "end\n",
    "\n",
    "function Base.:*(x::mathy,y::mathy)\n",
    "    if x == y\n",
    "        symExpr(:($x^2))\n",
    "    elseif x == -y\n",
    "        symExpr(:(-$x^2))\n",
    "    elseif x == 1\n",
    "        y\n",
    "    elseif y == 1\n",
    "        x\n",
    "    elseif (x == 0) || (y == 0)\n",
    "        0\n",
    "    else\n",
    "        symExpr(:($x*$y))\n",
    "    end\n",
    "end\n",
    "\n",
    "function Base.:/(x::mathy, y::mathy)\n",
    "    if x == y\n",
    "        1\n",
    "    elseif x == -y\n",
    "        -1\n",
    "    elseif y == 1\n",
    "        x\n",
    "    else\n",
    "        symExpr(:($x/$y))\n",
    "    end\n",
    "end\n",
    "\n",
    "function Base.:^(x::mathy, y::mathy)\n",
    "    if y == 0\n",
    "        1\n",
    "    elseify == 1\n",
    "        x\n",
    "    else\n",
    "        symExpr(:($x^$y))\n",
    "    end\n",
    "end\n",
    "\n",
    "Base.:^(x::mathy, y::Int) = y == 1 ? x : y == 0 ? 1: symExpr(:($x^$y))\n",
    "\n",
    "Base.log(x::mathy) = symExpr(:(log($x)))"
   ]
  },
  {
   "cell_type": "code",
   "execution_count": 101,
   "metadata": {},
   "outputs": [
    {
     "data": {
      "text/plain": [
       "hasDuplicates (generic function with 1 method)"
      ]
     },
     "execution_count": 101,
     "metadata": {},
     "output_type": "execute_result"
    }
   ],
   "source": [
    "function hasDuplicates(arr)\n",
    "    for i in 1:(length(arr)-1)\n",
    "        for j in (i+1):length(arr)\n",
    "            if arr[i] == arr[j]\n",
    "                return true\n",
    "            end\n",
    "        end\n",
    "    end\n",
    "    false\n",
    "end"
   ]
  },
  {
   "cell_type": "code",
   "execution_count": 145,
   "metadata": {},
   "outputs": [
    {
     "ename": "LoadError",
     "evalue": "\u001b[91mMethodError: no method matching getTagList(::DataStructures.SortedDict{Char,Int64,Base.Order.ForwardOrdering})\u001b[0m\nClosest candidates are:\n  getTagList(\u001b[91m::Differential\u001b[39m) at In[103]:38\u001b[39m",
     "output_type": "error",
     "traceback": [
      "\u001b[91mMethodError: no method matching getTagList(::DataStructures.SortedDict{Char,Int64,Base.Order.ForwardOrdering})\u001b[0m\nClosest candidates are:\n  getTagList(\u001b[91m::Differential\u001b[39m) at In[103]:38\u001b[39m",
      "",
      "Stacktrace:",
      " [1] \u001b[1m|>\u001b[22m\u001b[22m\u001b[1m(\u001b[22m\u001b[22m::DataStructures.SortedDict{Char,Int64,Base.Order.ForwardOrdering}, ::#getTagList\u001b[1m)\u001b[22m\u001b[22m at \u001b[1m./operators.jl:862\u001b[22m\u001b[22m",
      " [2] \u001b[1minclude_string\u001b[22m\u001b[22m\u001b[1m(\u001b[22m\u001b[22m::String, ::String\u001b[1m)\u001b[22m\u001b[22m at \u001b[1m./loading.jl:522\u001b[22m\u001b[22m"
     ]
    }
   ],
   "source": [
    "tagCount = 0\n",
    "\n",
    "type DTag\n",
    "    tag::Array\n",
    "end\n",
    "\n",
    "DTag(x) = DTag([x])\n",
    "\n",
    "DTag(x...) = DTag([i for i in x] |> sort)\n",
    "\n",
    "Base.length(t::DTag) = length(t.tag)\n",
    "Base.:(==)(x::DTag,y::DTag) = x.tag == y.tag\n",
    "Base.getindex(t::DTag, i::Int) = (t.tag)[i]\n",
    "\n",
    "function Base.isless(t1::DTag,t2::DTag)\n",
    "    if length(t1) == length(t2)\n",
    "        for i in 1:length(t1)\n",
    "            if t1[i] >= t2[i]\n",
    "                return false\n",
    "            end\n",
    "        end\n",
    "        t1 == t2 ? (return false ) : (return true)\n",
    "    elseif length(t1) < length(t2)\n",
    "        true\n",
    "    else\n",
    "        false\n",
    "    end\n",
    "end  "
   ]
  },
  {
   "cell_type": "code",
   "execution_count": 146,
   "metadata": {},
   "outputs": [],
   "source": [
    "type Differential\n",
    "    terms::SortedDict\n",
    "end\n",
    "\n",
    "function printEpsilons(t::DTag)\n",
    "    str = \"\"\n",
    "    for i in t.tag \n",
    "        str = str*\"ϵ$i\" \n",
    "    end\n",
    "    str\n",
    "end\n",
    "\n",
    "function Base.show(io::IO, diff::Differential)\n",
    "    str = \"\"\n",
    "    for (tag, term) in diff.terms\n",
    "        if tag == DTag()\n",
    "            str = str*\"$(term)$(printEpsilons(tag))\"\n",
    "        elseif str == \"\"\n",
    "            str = str*\"($(term))$(printEpsilons(tag))\"\n",
    "        else\n",
    "            str = str*\" + ($(term))$(printEpsilons(tag))\"\n",
    "        end\n",
    "    end\n",
    "    print(io, str)\n",
    "end\n",
    "\n",
    "function Differential(iterable)\n",
    "    Differential(try delete!(SortedDict(iterable),DTag(-1)) catch SortedDict(iterable) end)\n",
    "end\n",
    "\n",
    "function Differential(keys::Union{Array,Tuple}, values::Union{Array,Tuple})\n",
    "    Differential(try delete!(SortedDict(zip(keys,values)), DTag(-1)) catch SortedDict(zip(keys,values)) end)\n",
    "end\n",
    "\n",
    "Base.length(t::Differential) = length(t.terms)\n",
    "Base.:(==)(x::Differential,y::Differential) = x.terms == y.terms\n",
    "Base.getindex(t::Differential, i::DTag) = (t.terms)[i]\n",
    "getTagList(Dx::Differential) = [key for (key, _) in Dx.terms]\n",
    "\n",
    "Base.getindex(Dx::Differential, i::DTag) = Dx.terms[i]\n",
    "\n",
    "function Base.getindex(Dx::Differential, i::Int)\n",
    "    key = getTagList(Dx)[i]\n",
    "    key == DTag() ? Dx.terms[key] : Differential(key => Dx.terms[key])\n",
    "end\n",
    "\n",
    "function Base.getindex(Dx::Differential, i::UnitRange)\n",
    "    keys = getTagList(Dx)[i]\n",
    "    if length(i) == 1 \n",
    "        out = (Dx.terms)[keys...]\n",
    "    else\n",
    "        Differential(k => Dx.terms[k] for k in keys)\n",
    "    end\n",
    "end\n",
    "\n",
    "Base.endof(Dx::Differential) = length(Dx |> getTagList)\n",
    "\n",
    "lastTag(Dx::Differential) = getTagList(Dx)[end]\n",
    "\n",
    "function tagUnion(x::Differential, y::Differential)\n",
    "    vcat(x |> getTagList, y |> getTagList) |> sort |> fastuniq\n",
    "end\n",
    "\n",
    "\n",
    "mathyDiff = Union{mathy, Differential};"
   ]
  },
  {
   "cell_type": "code",
   "execution_count": 104,
   "metadata": {},
   "outputs": [
    {
     "data": {
      "text/plain": [
       "fastuniq (generic function with 1 method)"
      ]
     },
     "execution_count": 104,
     "metadata": {},
     "output_type": "execute_result"
    }
   ],
   "source": [
    "function fastuniq(v)\n",
    "  v1 = Vector{eltype(v)}()\n",
    "  if length(v)>0\n",
    "    laste = v[1]\n",
    "    push!(v1,laste)\n",
    "    for e in v\n",
    "      if e != laste\n",
    "        laste = e\n",
    "        push!(v1,laste)\n",
    "      end\n",
    "    end\n",
    "  end\n",
    "  return v1\n",
    "end\n",
    "\n"
   ]
  },
  {
   "cell_type": "code",
   "execution_count": 105,
   "metadata": {},
   "outputs": [
    {
     "data": {
      "text/plain": [
       "x ^ 2 + x + (2x + 1)ϵ1 + (2x)ϵ2 + (2)ϵ1ϵ2"
      ]
     },
     "execution_count": 105,
     "metadata": {},
     "output_type": "execute_result"
    }
   ],
   "source": [
    "function Base.:+(x::Differential, y::mathy)\n",
    "    x + Differential([DTag()], [y])\n",
    "end\n",
    "\n",
    "function Base.:+(x::mathy, y::Differential)\n",
    "    Differential([DTag()], [x]) + y\n",
    "end\n",
    "\n",
    "\n",
    "function Base.:+(x::Differential, y::Differential)\n",
    "    tags = tagUnion(x,y)\n",
    "    values = [((try x[tag] catch 0 end) + (try y[tag] catch 0 end)) for tag in tags]\n",
    "    Differential(tags, values)\n",
    "end\n",
    "\n",
    "Dx = Differential(SortedDict(DTag() => :x^2, DTag(1) => :2*:x, DTag(2) => 2*:x, DTag(1,2) => 2))\n",
    "\n",
    "ykeys = [DTag(),DTag(1)]\n",
    "yvals = [:x, 1]\n",
    "\n",
    "Dy = Differential(ykeys, yvals)\n",
    "\n",
    "Dx + Dy"
   ]
  },
  {
   "cell_type": "code",
   "execution_count": 106,
   "metadata": {},
   "outputs": [
    {
     "data": {
      "text/plain": [
       "DataStructures.SortedDict{DTag,Int64,Base.Order.ForwardOrdering} with 0 entries"
      ]
     },
     "execution_count": 106,
     "metadata": {},
     "output_type": "execute_result"
    }
   ],
   "source": [
    "function Base.:*(x::Differential, y::mathy)\n",
    "    Differential(tag => value * y for (tag, value) in x.terms)\n",
    "end\n",
    "\n",
    "function Base.:*(y::mathy, x::Differential)\n",
    "    Differential(tag => y * value for (tag, value) in x.terms)\n",
    "end\n",
    "\n",
    "function Base.:*(x::Differential, y::Differential)\n",
    "    out = Differential([],[0])\n",
    "    for (k1,v1) in x.terms\n",
    "        for (k2,v2) in y.terms\n",
    "            out += Differential([k1*k2], [v1*v2])\n",
    "        end\n",
    "    end\n",
    "    out\n",
    "end\n",
    "\n",
    "function Base.:*(t1::DTag,t2::DTag)\n",
    "    if vcat(t1.tag,t2.tag) |> hasDuplicates\n",
    "        DTag(-1)\n",
    "    else\n",
    "        DTag(vcat(t1.tag,t2.tag) |> sort)\n",
    "    end\n",
    "end\n",
    "\n",
    "Differential([DTag(1)*DTag(1)],[1]).terms"
   ]
  },
  {
   "cell_type": "code",
   "execution_count": 117,
   "metadata": {},
   "outputs": [
    {
     "data": {
      "text/plain": [
       "log(log(x)) + ((1 / log(x)) * (1 / x))ϵ1"
      ]
     },
     "execution_count": 117,
     "metadata": {},
     "output_type": "execute_result"
    }
   ],
   "source": [
    "function unaryOp(f::Function, Df::Function)\n",
    "    function (Dx::Differential) \n",
    "        f(Dx[1:end-1]) + Df(Dx[1:end-1])*Dx[end]\n",
    "    end\n",
    "end \n",
    "\n",
    "function binaryOp(f::Function, Dfx::Function, Dfy::Function)\n",
    "    function (Dx::Differential, Dy::Differential) \n",
    "        f(Dx[1:end-1],Dy[1:end-1]) + Dfx(Dx[1:end-1], Dy[1:end-1])*Dx[end] + Dfy(Dx[1:end-1], Dy[1:end-1])*Dy[end]\n",
    "    end\n",
    "end\n",
    "\n",
    "Base.:-(Dx::Differential, y::mathy) = unaryOp(x -> x - y, x -> 1)(Dx)\n",
    "Base.:-(x::mathy, Dy::Differential) = unaryOp(y -> x - y, y -> -1)(Dy)\n",
    "Base.:-(Dx::Differential, Dy::Differential) = binaryOp((x,y) -> x - y,\n",
    "                                                       (x,y) -> 1,\n",
    "                                                       (x,y) -> -1)(Dx,Dy)\n",
    "\n",
    "Base.:/(Dx::Differential,y::mathy) = unaryOp(Dx -> Dx/y, Dx -> 1/y)(Dx)\n",
    "Base.:/(x::mathy,Dy::Differential) = unaryOp(Dy -> x/Dy, Dy -> -1/(Dy)^2)(Dx)\n",
    "Base.:/(Dx::Differential,Dy::Differential) = binaryOp((x,y) -> x/y, \n",
    "                                                      (x,y) -> 1/y,\n",
    "                                                      (x,y) -> -x/y^2)(Dx,Dy)\n",
    "\n",
    "Base.:^(Dx::Differential,y::mathy) = unaryOp(Dx -> Dx^y, Dx -> y*Dx^(y-1))(Dx)\n",
    "Base.:^(Dx::Differential,y::Int) = unaryOp(Dx -> Dx^y, Dx -> y*Dx^(y-1))(Dx)\n",
    "Base.:^(x::mathy,Dy::Differential) = unaryOp(Dy -> x^Dy, Dy -> log(x)*x^Dy)(Dy)\n",
    "\n",
    "Base.log(Dx::Differential) = unaryOp(log, x -> 1/x)(Dx)\n",
    "\n",
    "ϵ = Differential([DTag(1)],[1])\n",
    "\n",
    "Dx = Dy\n",
    "\n",
    "log(log(:x + ϵ))"
   ]
  },
  {
   "cell_type": "code",
   "execution_count": 148,
   "metadata": {},
   "outputs": [
    {
     "data": {
      "text/plain": [
       "DTag([2])"
      ]
     },
     "execution_count": 148,
     "metadata": {},
     "output_type": "execute_result"
    }
   ],
   "source": [
    "function D(f::Function)\n",
    "    ϵ = makeDiff()\n",
    "    x -> extractDiff(f(x + ϵ), ϵ)\n",
    "end\n",
    "\n",
    "function makeDiff()\n",
    "    global tagCount += 1\n",
    "    Differential([DTag(tagCount)],[1])\n",
    "end\n",
    "\n",
    "function extractDiff(Dx::Differential, ϵ::Differential)\n",
    "    tag = (ϵ |> getTagList)[1]\n",
    "    out = Differential(setdiff(t, tag) => v for (t, v) in Dx.terms if setdiff(t, tag)!=DTag())\n",
    "    if getTagList(out) == [DTag()]\n",
    "        out[1]\n",
    "    else\n",
    "        out\n",
    "    end\n",
    "end\n",
    "extractDiff(ex::Expr, ϵ::Differential) = 0\n",
    "    \n",
    "Base.setdiff(t1::DTag, t2::DTag) = DTag(setdiff(t1.tag, t2.tag) |> sort)\n",
    "\n",
    "t1 = DTag([1,2])\n",
    "t2 = DTag([1])\n",
    "setdiff(t1, t2)"
   ]
  },
  {
   "cell_type": "code",
   "execution_count": 109,
   "metadata": {},
   "outputs": [
    {
     "data": {
      "text/plain": [
       "x ^ 2 + (2x)ϵ3 + (2x)ϵ4 + (2)ϵ3ϵ4"
      ]
     },
     "execution_count": 109,
     "metadata": {},
     "output_type": "execute_result"
    }
   ],
   "source": [
    "(:x + makeDiff() + makeDiff())^2"
   ]
  },
  {
   "cell_type": "code",
   "execution_count": 139,
   "metadata": {},
   "outputs": [
    {
     "data": {
      "text/plain": [
       "2-element Array{Int64,1}:\n",
       " 1\n",
       " 2"
      ]
     },
     "execution_count": 139,
     "metadata": {},
     "output_type": "execute_result"
    }
   ],
   "source": [
    "[i for i in 1:10 if i < 3]"
   ]
  },
  {
   "cell_type": "code",
   "execution_count": 141,
   "metadata": {},
   "outputs": [
    {
     "data": {
      "text/plain": [
       "false"
      ]
     },
     "execution_count": 141,
     "metadata": {},
     "output_type": "execute_result"
    }
   ],
   "source": [
    "1 != 1"
   ]
  },
  {
   "cell_type": "code",
   "execution_count": 152,
   "metadata": {},
   "outputs": [
    {
     "data": {
      "text/plain": []
     },
     "execution_count": 152,
     "metadata": {},
     "output_type": "execute_result"
    }
   ],
   "source": [
    "(D(x -> x^5 + x)(:x))"
   ]
  },
  {
   "cell_type": "code",
   "execution_count": 130,
   "metadata": {},
   "outputs": [
    {
     "data": {
      "text/plain": [
       "x ^ 4 + (4 * x ^ 3)ϵ26 + (4 * x ^ 3)ϵ27 + (4 * (3 * x ^ 2))ϵ26ϵ27"
      ]
     },
     "execution_count": 130,
     "metadata": {},
     "output_type": "execute_result"
    }
   ],
   "source": [
    "ϵ1 = makeDiff()\n",
    "ϵ2 = makeDiff()\n",
    "(x -> x^4)(:x + ϵ1 + ϵ2) "
   ]
  },
  {
   "cell_type": "code",
   "execution_count": null,
   "metadata": {},
   "outputs": [],
   "source": []
  },
  {
   "cell_type": "code",
   "execution_count": null,
   "metadata": {},
   "outputs": [],
   "source": []
  },
  {
   "cell_type": "code",
   "execution_count": null,
   "metadata": {},
   "outputs": [],
   "source": []
  },
  {
   "cell_type": "code",
   "execution_count": null,
   "metadata": {},
   "outputs": [],
   "source": []
  },
  {
   "cell_type": "code",
   "execution_count": null,
   "metadata": {},
   "outputs": [],
   "source": []
  },
  {
   "cell_type": "code",
   "execution_count": null,
   "metadata": {},
   "outputs": [],
   "source": []
  },
  {
   "cell_type": "code",
   "execution_count": null,
   "metadata": {},
   "outputs": [],
   "source": []
  }
 ],
 "metadata": {
  "kernelspec": {
   "display_name": "Julia 0.6.1",
   "language": "julia",
   "name": "julia-0.6"
  },
  "language_info": {
   "file_extension": ".jl",
   "mimetype": "application/julia",
   "name": "julia",
   "version": "0.6.1"
  }
 },
 "nbformat": 4,
 "nbformat_minor": 2
}
